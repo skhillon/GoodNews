{
 "cells": [
  {
   "cell_type": "markdown",
   "metadata": {},
   "source": [
    "# Good News\n",
    "A service to find good news from your usual headlines :)\n",
    "\n",
    "- Trained on data from https://www.kaggle.com/uciml/news-aggregator-dataset.\n",
    "- Followed MSFT tutorial here: https://notebooks.azure.com/Microsoft/libraries/samples/html/Discover%20Sentiments%20in%20Tweets.ipynb\n",
    "- Also followed NLTK tutorial here: http://www.nltk.org/howto/sentiment.html"
   ]
  },
  {
   "cell_type": "markdown",
   "metadata": {},
   "source": [
    "## Data Import"
   ]
  },
  {
   "cell_type": "markdown",
   "metadata": {},
   "source": [
    "### Setup"
   ]
  },
  {
   "cell_type": "code",
   "execution_count": 1,
   "metadata": {},
   "outputs": [],
   "source": [
    "# Handling data\n",
    "import pandas as pd\n",
    "\n",
    "# Cleaning data\n",
    "import re\n",
    "\n",
    "# API interaction\n",
    "import requests, json"
   ]
  },
  {
   "cell_type": "code",
   "execution_count": 26,
   "metadata": {},
   "outputs": [],
   "source": [
    "# API Variables\n",
    "API_KEY = '88d3bf9f4bed4dfabda05fbfa5f3999e'\n",
    "BASE_URL = 'https://newsapi.org/v2/top-headlines'\n",
    "default_params = {'country': 'us', 'category': 'general'}\n",
    "\n",
    "sample_url = 'https://jsonplaceholder.typicode.com/posts/1'\n",
    "\n",
    "test_mode = False"
   ]
  },
  {
   "cell_type": "markdown",
   "metadata": {},
   "source": [
    "### API Functions"
   ]
  },
  {
   "cell_type": "code",
   "execution_count": 33,
   "metadata": {},
   "outputs": [],
   "source": [
    "def run_sample_json_tests(sj):\n",
    "    '''Since we're going to be running the same API tests, this is helpful'''\n",
    "    assert sj['userId'] == 1\n",
    "    assert sj['id'] == 1\n",
    "    assert sj['title'] == \"sunt aut facere repellat provident occaecati excepturi optio reprehenderit\"\n",
    "    assert sj['body'] == \"quia et suscipit\\nsuscipit recusandae consequuntur expedita et cum\\nreprehenderit molestiae ut ut quas totam\\nnostrum rerum est autem sunt rem eveniet architecto\""
   ]
  },
  {
   "cell_type": "code",
   "execution_count": 34,
   "metadata": {},
   "outputs": [],
   "source": [
    "def get_raw_json(url, api_key, api_params):\n",
    "    '''API client'''\n",
    "    payload = api_params\n",
    "    payload['apiKey'] = api_key\n",
    "    return requests.get(url, params=payload).json()"
   ]
  },
  {
   "cell_type": "code",
   "execution_count": 35,
   "metadata": {},
   "outputs": [],
   "source": [
    "# Test for get_raw_json()\n",
    "sample_json = get_raw_json(sample_url, None, default_params)\n",
    "run_sample_json_tests(sample_json)"
   ]
  },
  {
   "cell_type": "code",
   "execution_count": 46,
   "metadata": {},
   "outputs": [],
   "source": [
    "def import_to_dict(filename=None, url=BASE_URL, api_key=API_KEY, params=default_params):\n",
    "    '''Imports data as dict. If test_mode, uses local file. Otherwise uses api'''\n",
    "    raw_json = None\n",
    "\n",
    "    if test_mode:\n",
    "        with open(filename) as f:\n",
    "            return json.load(f)       \n",
    "    else:\n",
    "        return get_raw_json(url, api_key, params)"
   ]
  },
  {
   "cell_type": "code",
   "execution_count": 47,
   "metadata": {},
   "outputs": [],
   "source": [
    "# Tests for import_to_dict()\n",
    "previous_test_mode_status = test_mode\n",
    "\n",
    "# test_mode ON\n",
    "test_mode = True\n",
    "imported_from_file = import_to_dict('sample.json')\n",
    "run_sample_json_tests(imported_from_file)\n",
    "\n",
    "# test_mode OFF\n",
    "test_mode = False\n",
    "imported_from_web = import_to_dict(url=sample_url)\n",
    "run_sample_json_tests(imported_from_web)\n",
    "\n",
    "# Restore previous value of test_mode\n",
    "test_mode = previous_test_mode_status"
   ]
  },
  {
   "cell_type": "markdown",
   "metadata": {},
   "source": [
    "## Data Cleaning"
   ]
  },
  {
   "cell_type": "markdown",
   "metadata": {},
   "source": [
    "We create a DataFrame from our JSON data and preview the first five elements."
   ]
  },
  {
   "cell_type": "code",
   "execution_count": 120,
   "metadata": {},
   "outputs": [
    {
     "data": {
      "text/html": [
       "<div>\n",
       "<style scoped>\n",
       "    .dataframe tbody tr th:only-of-type {\n",
       "        vertical-align: middle;\n",
       "    }\n",
       "\n",
       "    .dataframe tbody tr th {\n",
       "        vertical-align: top;\n",
       "    }\n",
       "\n",
       "    .dataframe thead th {\n",
       "        text-align: right;\n",
       "    }\n",
       "</style>\n",
       "<table border=\"1\" class=\"dataframe\">\n",
       "  <thead>\n",
       "    <tr style=\"text-align: right;\">\n",
       "      <th></th>\n",
       "      <th>author</th>\n",
       "      <th>description</th>\n",
       "      <th>publishedAt</th>\n",
       "      <th>title</th>\n",
       "      <th>url</th>\n",
       "      <th>urlToImage</th>\n",
       "    </tr>\n",
       "  </thead>\n",
       "  <tbody>\n",
       "    <tr>\n",
       "      <th>0</th>\n",
       "      <td>Paul Ziobro</td>\n",
       "      <td>Teamsters negotiators said they have tentative...</td>\n",
       "      <td>2018-06-22T03:48:04Z</td>\n",
       "      <td>UPS, Teamsters Reach Handshake Deal on New Con...</td>\n",
       "      <td>https://www.wsj.com/articles/ups-teamsters-rea...</td>\n",
       "      <td>https://si.wsj.net/public/resources/images/OG-...</td>\n",
       "    </tr>\n",
       "    <tr>\n",
       "      <th>1</th>\n",
       "      <td>Joe Flint</td>\n",
       "      <td>ABC and the production company that makes ‘Ros...</td>\n",
       "      <td>2018-06-22T03:25:41Z</td>\n",
       "      <td>ABC Plans Spinoff of 'Roseanne' Without Roseanne</td>\n",
       "      <td>https://www.wsj.com/articles/abc-plans-spinoff...</td>\n",
       "      <td>https://images.wsj.net/im-15296/social</td>\n",
       "    </tr>\n",
       "    <tr>\n",
       "      <th>2</th>\n",
       "      <td>Sara Germano</td>\n",
       "      <td>Puma is returning to men’s basketball shoes ha...</td>\n",
       "      <td>2018-06-22T03:25:32Z</td>\n",
       "      <td>Puma Gives Basketball Another Shot</td>\n",
       "      <td>https://www.wsj.com/articles/puma-gives-basket...</td>\n",
       "      <td>https://images.wsj.net/im-15213/social</td>\n",
       "    </tr>\n",
       "    <tr>\n",
       "      <th>3</th>\n",
       "      <td>Matthew Gutierrez</td>\n",
       "      <td>The 19-year-old Bahamian played one season at ...</td>\n",
       "      <td>2018-06-22T02:13:41Z</td>\n",
       "      <td>Phoenix Suns Select Deandre Ayton No. 1 in NBA...</td>\n",
       "      <td>https://www.wsj.com/articles/phoenix-suns-sele...</td>\n",
       "      <td>https://images.wsj.net/im-15299/social</td>\n",
       "    </tr>\n",
       "    <tr>\n",
       "      <th>4</th>\n",
       "      <td>Wall Street Journal</td>\n",
       "      <td>The ministers needed to complete a deal betwee...</td>\n",
       "      <td>2018-06-22T01:02:08Z</td>\n",
       "      <td>Eurozone Agrees on Final Details of Plan to En...</td>\n",
       "      <td>https://www.wsj.com/articles/eurozone-agrees-o...</td>\n",
       "      <td>https://images.wsj.net/im-15294/social</td>\n",
       "    </tr>\n",
       "  </tbody>\n",
       "</table>\n",
       "</div>"
      ],
      "text/plain": [
       "                author                                        description  \\\n",
       "0          Paul Ziobro  Teamsters negotiators said they have tentative...   \n",
       "1            Joe Flint  ABC and the production company that makes ‘Ros...   \n",
       "2         Sara Germano  Puma is returning to men’s basketball shoes ha...   \n",
       "3    Matthew Gutierrez  The 19-year-old Bahamian played one season at ...   \n",
       "4  Wall Street Journal  The ministers needed to complete a deal betwee...   \n",
       "\n",
       "            publishedAt                                              title  \\\n",
       "0  2018-06-22T03:48:04Z  UPS, Teamsters Reach Handshake Deal on New Con...   \n",
       "1  2018-06-22T03:25:41Z   ABC Plans Spinoff of 'Roseanne' Without Roseanne   \n",
       "2  2018-06-22T03:25:32Z                 Puma Gives Basketball Another Shot   \n",
       "3  2018-06-22T02:13:41Z  Phoenix Suns Select Deandre Ayton No. 1 in NBA...   \n",
       "4  2018-06-22T01:02:08Z  Eurozone Agrees on Final Details of Plan to En...   \n",
       "\n",
       "                                                 url  \\\n",
       "0  https://www.wsj.com/articles/ups-teamsters-rea...   \n",
       "1  https://www.wsj.com/articles/abc-plans-spinoff...   \n",
       "2  https://www.wsj.com/articles/puma-gives-basket...   \n",
       "3  https://www.wsj.com/articles/phoenix-suns-sele...   \n",
       "4  https://www.wsj.com/articles/eurozone-agrees-o...   \n",
       "\n",
       "                                          urlToImage  \n",
       "0  https://si.wsj.net/public/resources/images/OG-...  \n",
       "1             https://images.wsj.net/im-15296/social  \n",
       "2             https://images.wsj.net/im-15213/social  \n",
       "3             https://images.wsj.net/im-15299/social  \n",
       "4             https://images.wsj.net/im-15294/social  "
      ]
     },
     "execution_count": 120,
     "metadata": {},
     "output_type": "execute_result"
    }
   ],
   "source": [
    "data = import_to_dict('news.json')\n",
    "data = pd.DataFrame(data['articles'])\n",
    "data.drop('source', axis=1, inplace=True) # Redundant data\n",
    "\n",
    "data.head()"
   ]
  },
  {
   "cell_type": "markdown",
   "metadata": {},
   "source": [
    "Let's check the type of the `publishedAt` field:"
   ]
  },
  {
   "cell_type": "code",
   "execution_count": 124,
   "metadata": {},
   "outputs": [
    {
     "data": {
      "text/plain": [
       "str"
      ]
     },
     "execution_count": 124,
     "metadata": {},
     "output_type": "execute_result"
    }
   ],
   "source": [
    "type(data['publishedAt'][0])"
   ]
  },
  {
   "cell_type": "markdown",
   "metadata": {},
   "source": [
    "Since it's a `str`, let's convert it to a Date object so we can sort chronologically later if needed:"
   ]
  },
  {
   "cell_type": "code",
   "execution_count": 127,
   "metadata": {},
   "outputs": [
    {
     "data": {
      "text/plain": [
       "pandas._libs.tslib.Timestamp"
      ]
     },
     "execution_count": 127,
     "metadata": {},
     "output_type": "execute_result"
    }
   ],
   "source": [
    "data['publishedAt'] = pd.to_datetime(data['publishedAt'], infer_datetime_format=True)\n",
    "type(data['publishedAt'][0])"
   ]
  },
  {
   "cell_type": "markdown",
   "metadata": {},
   "source": [
    "## Prep for Model"
   ]
  },
  {
   "cell_type": "markdown",
   "metadata": {},
   "source": [
    "## Model"
   ]
  },
  {
   "cell_type": "code",
   "execution_count": null,
   "metadata": {},
   "outputs": [],
   "source": []
  }
 ],
 "metadata": {
  "kernelspec": {
   "display_name": "Python 3",
   "language": "python",
   "name": "python3"
  },
  "language_info": {
   "codemirror_mode": {
    "name": "ipython",
    "version": 3
   },
   "file_extension": ".py",
   "mimetype": "text/x-python",
   "name": "python",
   "nbconvert_exporter": "python",
   "pygments_lexer": "ipython3",
   "version": "3.6.4"
  }
 },
 "nbformat": 4,
 "nbformat_minor": 2
}
