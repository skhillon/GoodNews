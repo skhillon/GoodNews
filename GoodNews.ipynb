{
 "cells": [
  {
   "cell_type": "markdown",
   "metadata": {},
   "source": [
    "# Good News\n",
    "A service to find good news from your usual headlines :)\n",
    "\n",
    "- Trained on data from https://www.kaggle.com/uciml/news-aggregator-dataset.\n",
    "- Followed MSFT tutorial here: https://notebooks.azure.com/Microsoft/libraries/samples/html/Discover%20Sentiments%20in%20Tweets.ipynb\n",
    "- Also followed NLTK tutorial here: http://www.nltk.org/howto/sentiment.html"
   ]
  },
  {
   "cell_type": "markdown",
   "metadata": {},
   "source": [
    "## Data Import"
   ]
  },
  {
   "cell_type": "markdown",
   "metadata": {},
   "source": [
    "### Setup"
   ]
  },
  {
   "cell_type": "code",
   "execution_count": 1,
   "metadata": {},
   "outputs": [],
   "source": [
    "# Handling data\n",
    "import pandas as pd\n",
    "\n",
    "# Cleaning data\n",
    "import re\n",
    "\n",
    "# API interaction\n",
    "import requests, json"
   ]
  },
  {
   "cell_type": "code",
   "execution_count": 26,
   "metadata": {},
   "outputs": [],
   "source": [
    "# API Variables\n",
    "API_KEY = '88d3bf9f4bed4dfabda05fbfa5f3999e'\n",
    "BASE_URL = 'https://newsapi.org/v2/top-headlines'\n",
    "default_params = {'country': 'us', 'category': 'general'}\n",
    "\n",
    "sample_url = 'https://jsonplaceholder.typicode.com/posts/1'\n",
    "\n",
    "test_mode = False"
   ]
  },
  {
   "cell_type": "markdown",
   "metadata": {},
   "source": [
    "### API Functions"
   ]
  },
  {
   "cell_type": "code",
   "execution_count": 33,
   "metadata": {},
   "outputs": [],
   "source": [
    "def run_sample_json_tests(sj):\n",
    "    '''Since we're going to be running the same API tests, this is helpful'''\n",
    "    assert sj['userId'] == 1\n",
    "    assert sj['id'] == 1\n",
    "    assert sj['title'] == \"sunt aut facere repellat provident occaecati excepturi optio reprehenderit\"\n",
    "    assert sj['body'] == \"quia et suscipit\\nsuscipit recusandae consequuntur expedita et cum\\nreprehenderit molestiae ut ut quas totam\\nnostrum rerum est autem sunt rem eveniet architecto\""
   ]
  },
  {
   "cell_type": "code",
   "execution_count": 34,
   "metadata": {},
   "outputs": [],
   "source": [
    "def get_raw_json(url, api_key, api_params):\n",
    "    '''API client'''\n",
    "    payload = api_params\n",
    "    payload['apiKey'] = api_key\n",
    "    return requests.get(url, params=payload).json()"
   ]
  },
  {
   "cell_type": "code",
   "execution_count": 35,
   "metadata": {},
   "outputs": [],
   "source": [
    "# Test for get_raw_json()\n",
    "sample_json = get_raw_json(sample_url, None, default_params)\n",
    "run_sample_json_tests(sample_json)"
   ]
  },
  {
   "cell_type": "code",
   "execution_count": 46,
   "metadata": {},
   "outputs": [],
   "source": [
    "def import_to_dict(filename=None, url=BASE_URL, api_key=API_KEY, params=default_params):\n",
    "    '''Imports data as dict. If test_mode, uses local file. Otherwise uses api'''\n",
    "    raw_json = None\n",
    "\n",
    "    if test_mode:\n",
    "        with open(filename) as f:\n",
    "            return json.load(f)       \n",
    "    else:\n",
    "        return get_raw_json(url, api_key, params)"
   ]
  },
  {
   "cell_type": "code",
   "execution_count": 47,
   "metadata": {},
   "outputs": [],
   "source": [
    "# Tests for import_to_dict()\n",
    "previous_test_mode_status = test_mode\n",
    "\n",
    "# test_mode ON\n",
    "test_mode = True\n",
    "imported_from_file = import_to_dict('sample.json')\n",
    "run_sample_json_tests(imported_from_file)\n",
    "\n",
    "# test_mode OFF\n",
    "test_mode = False\n",
    "imported_from_web = import_to_dict(url=sample_url)\n",
    "run_sample_json_tests(imported_from_web)\n",
    "\n",
    "# Restore previous value of test_mode\n",
    "test_mode = previous_test_mode_status"
   ]
  },
  {
   "cell_type": "markdown",
   "metadata": {},
   "source": [
    "## Data Cleaning"
   ]
  },
  {
   "cell_type": "code",
   "execution_count": 51,
   "metadata": {},
   "outputs": [
    {
     "name": "stdout",
     "output_type": "stream",
     "text": [
      "Shape: (20, 3)\n"
     ]
    },
    {
     "data": {
      "text/html": [
       "<div>\n",
       "<style scoped>\n",
       "    .dataframe tbody tr th:only-of-type {\n",
       "        vertical-align: middle;\n",
       "    }\n",
       "\n",
       "    .dataframe tbody tr th {\n",
       "        vertical-align: top;\n",
       "    }\n",
       "\n",
       "    .dataframe thead th {\n",
       "        text-align: right;\n",
       "    }\n",
       "</style>\n",
       "<table border=\"1\" class=\"dataframe\">\n",
       "  <thead>\n",
       "    <tr style=\"text-align: right;\">\n",
       "      <th></th>\n",
       "      <th>articles</th>\n",
       "      <th>status</th>\n",
       "      <th>totalResults</th>\n",
       "    </tr>\n",
       "  </thead>\n",
       "  <tbody>\n",
       "    <tr>\n",
       "      <th>0</th>\n",
       "      <td>{'source': {'id': 'the-wall-street-journal', '...</td>\n",
       "      <td>ok</td>\n",
       "      <td>30423</td>\n",
       "    </tr>\n",
       "    <tr>\n",
       "      <th>1</th>\n",
       "      <td>{'source': {'id': 'the-wall-street-journal', '...</td>\n",
       "      <td>ok</td>\n",
       "      <td>30423</td>\n",
       "    </tr>\n",
       "    <tr>\n",
       "      <th>2</th>\n",
       "      <td>{'source': {'id': 'the-wall-street-journal', '...</td>\n",
       "      <td>ok</td>\n",
       "      <td>30423</td>\n",
       "    </tr>\n",
       "    <tr>\n",
       "      <th>3</th>\n",
       "      <td>{'source': {'id': 'the-wall-street-journal', '...</td>\n",
       "      <td>ok</td>\n",
       "      <td>30423</td>\n",
       "    </tr>\n",
       "    <tr>\n",
       "      <th>4</th>\n",
       "      <td>{'source': {'id': 'the-wall-street-journal', '...</td>\n",
       "      <td>ok</td>\n",
       "      <td>30423</td>\n",
       "    </tr>\n",
       "  </tbody>\n",
       "</table>\n",
       "</div>"
      ],
      "text/plain": [
       "                                            articles status  totalResults\n",
       "0  {'source': {'id': 'the-wall-street-journal', '...     ok         30423\n",
       "1  {'source': {'id': 'the-wall-street-journal', '...     ok         30423\n",
       "2  {'source': {'id': 'the-wall-street-journal', '...     ok         30423\n",
       "3  {'source': {'id': 'the-wall-street-journal', '...     ok         30423\n",
       "4  {'source': {'id': 'the-wall-street-journal', '...     ok         30423"
      ]
     },
     "execution_count": 51,
     "metadata": {},
     "output_type": "execute_result"
    }
   ],
   "source": [
    "data = pd.DataFrame(import_to_dict('news.json'))\n",
    "print(\"Shape: {}\".format(data.shape))\n",
    "data.head()"
   ]
  },
  {
   "cell_type": "markdown",
   "metadata": {},
   "source": [
    "Now we split original df into two:\n",
    "1) training_data df: data to be passed directly into model.\n",
    "2) articles df: data about a specific article that isn't useful to the model.\n",
    "Both are indexed by url.\n",
    "\n",
    "First we create the articles DataFrame:"
   ]
  },
  {
   "cell_type": "code",
   "execution_count": 17,
   "metadata": {},
   "outputs": [],
   "source": [
    "article_cols = ['url', 'urlToImage']\n",
    "articles = data.filter(article_cols, axis=1).set_index('url')"
   ]
  },
  {
   "cell_type": "code",
   "execution_count": 18,
   "metadata": {},
   "outputs": [
    {
     "ename": "AssertionError",
     "evalue": "",
     "output_type": "error",
     "traceback": [
      "\u001b[0;31m---------------------------------------------------------------------------\u001b[0m",
      "\u001b[0;31mAssertionError\u001b[0m                            Traceback (most recent call last)",
      "\u001b[0;32m<ipython-input-18-6a4aab82bd6d>\u001b[0m in \u001b[0;36m<module>\u001b[0;34m()\u001b[0m\n\u001b[1;32m      1\u001b[0m \u001b[0;31m# Tests for split()\u001b[0m\u001b[0;34m\u001b[0m\u001b[0;34m\u001b[0m\u001b[0m\n\u001b[0;32m----> 2\u001b[0;31m \u001b[0;32massert\u001b[0m \u001b[0;32mFalse\u001b[0m\u001b[0;34m\u001b[0m\u001b[0m\n\u001b[0m",
      "\u001b[0;31mAssertionError\u001b[0m: "
     ]
    }
   ],
   "source": [
    "assert False"
   ]
  },
  {
   "cell_type": "markdown",
   "metadata": {},
   "source": [
    "And now the training data. First, a small utility function:"
   ]
  },
  {
   "cell_type": "code",
   "execution_count": 22,
   "metadata": {},
   "outputs": [],
   "source": [
    "def extract_author(author_str):\n",
    "    '''Naive way to extract author from a URL.'''\n",
    "    author_str = author_str.split('/') # If it's a URL, remove everything leading up to author\n",
    "    \n",
    "    # The following is taken from the azure notebook from Microsoft:\n",
    "    author_str = re.sub(r\"@\\w+\", \"\", author_str) #remove twitter handle\n",
    "    author_str = re.sub(r\"\\d\", \"\", author_str) # remove numbers  \n",
    "    author_str = re.sub(r\"_+\", \"\", author_str) # remove consecutive underscores, keep hyphens\n",
    "    author_str = author_str.lower() # tranform to lower case\n",
    "    \n",
    "    return author_str"
   ]
  },
  {
   "cell_type": "code",
   "execution_count": 23,
   "metadata": {},
   "outputs": [
    {
     "ename": "NameError",
     "evalue": "name 'pd' is not defined",
     "output_type": "error",
     "traceback": [
      "\u001b[0;31m---------------------------------------------------------------------------\u001b[0m",
      "\u001b[0;31mNameError\u001b[0m                                 Traceback (most recent call last)",
      "\u001b[0;32m<ipython-input-23-a721095c24bb>\u001b[0m in \u001b[0;36m<module>\u001b[0;34m()\u001b[0m\n\u001b[0;32m----> 1\u001b[0;31m \u001b[0msample_authors\u001b[0m \u001b[0;34m=\u001b[0m \u001b[0mpd\u001b[0m\u001b[0;34m.\u001b[0m\u001b[0mSeries\u001b[0m\u001b[0;34m(\u001b[0m\u001b[0;34m[\u001b[0m\u001b[0;34m'Normal Author'\u001b[0m\u001b[0;34m,\u001b[0m \u001b[0;34m'@twitterhandle'\u001b[0m\u001b[0;34m,\u001b[0m \u001b[0;34m'alice123'\u001b[0m\u001b[0;34m,\u001b[0m \u001b[0;34m'the_blogger-mommy'\u001b[0m\u001b[0;34m]\u001b[0m\u001b[0;34m)\u001b[0m\u001b[0;34m\u001b[0m\u001b[0m\n\u001b[0m\u001b[1;32m      2\u001b[0m \u001b[0mexpected_authors\u001b[0m \u001b[0;34m=\u001b[0m \u001b[0mpd\u001b[0m\u001b[0;34m.\u001b[0m\u001b[0mSeries\u001b[0m\u001b[0;34m(\u001b[0m\u001b[0;34m[\u001b[0m\u001b[0;34m'normal author'\u001b[0m\u001b[0;34m,\u001b[0m \u001b[0;34m'twitterhandle'\u001b[0m\u001b[0;34m,\u001b[0m \u001b[0;34m'alice'\u001b[0m\u001b[0;34m,\u001b[0m \u001b[0;34m'theblogger-mommy'\u001b[0m\u001b[0;34m]\u001b[0m\u001b[0;34m)\u001b[0m\u001b[0;34m\u001b[0m\u001b[0m\n\u001b[1;32m      3\u001b[0m \u001b[0;34m\u001b[0m\u001b[0m\n\u001b[1;32m      4\u001b[0m \u001b[0;32massert\u001b[0m \u001b[0msample_authors\u001b[0m\u001b[0;34m.\u001b[0m\u001b[0mapply\u001b[0m\u001b[0;34m(\u001b[0m\u001b[0mextract_author\u001b[0m\u001b[0;34m)\u001b[0m \u001b[0;34m==\u001b[0m \u001b[0mexpected_authors\u001b[0m\u001b[0;34m\u001b[0m\u001b[0m\n",
      "\u001b[0;31mNameError\u001b[0m: name 'pd' is not defined"
     ]
    }
   ],
   "source": [
    "sample_authors = pd.Series(['Normal Author', '@twitterhandle', 'alice123', 'the_blogger-mommy'])\n",
    "expected_authors = pd.Series(['normal author', 'twitterhandle', 'alice', 'theblogger-mommy'])\n",
    "\n",
    "assert sample_authors.apply(extract_author) == expected_authors"
   ]
  },
  {
   "cell_type": "code",
   "execution_count": null,
   "metadata": {},
   "outputs": [],
   "source": [
    "training_data = data.set_index('url')\n",
    "training_data.drop('urlToImage', inplace=True)\n",
    "\n",
    "# Source id and name are redundant. Use id only.\n",
    "training_data.drop('name', inplace=True)\n",
    "\n",
    "training_data['author'] = training_data['author'].apply(extract_author)"
   ]
  },
  {
   "cell_type": "code",
   "execution_count": 19,
   "metadata": {},
   "outputs": [
    {
     "ename": "AssertionError",
     "evalue": "",
     "output_type": "error",
     "traceback": [
      "\u001b[0;31m---------------------------------------------------------------------------\u001b[0m",
      "\u001b[0;31mAssertionError\u001b[0m                            Traceback (most recent call last)",
      "\u001b[0;32m<ipython-input-19-a871fdc9ebee>\u001b[0m in \u001b[0;36m<module>\u001b[0;34m()\u001b[0m\n\u001b[0;32m----> 1\u001b[0;31m \u001b[0;32massert\u001b[0m \u001b[0;32mFalse\u001b[0m\u001b[0;34m\u001b[0m\u001b[0m\n\u001b[0m",
      "\u001b[0;31mAssertionError\u001b[0m: "
     ]
    }
   ],
   "source": [
    "assert False"
   ]
  },
  {
   "cell_type": "markdown",
   "metadata": {},
   "source": [
    "## Prep for Model"
   ]
  },
  {
   "cell_type": "markdown",
   "metadata": {},
   "source": [
    "## Model"
   ]
  },
  {
   "cell_type": "code",
   "execution_count": null,
   "metadata": {},
   "outputs": [],
   "source": []
  }
 ],
 "metadata": {
  "kernelspec": {
   "display_name": "Python 3",
   "language": "python",
   "name": "python3"
  },
  "language_info": {
   "codemirror_mode": {
    "name": "ipython",
    "version": 3
   },
   "file_extension": ".py",
   "mimetype": "text/x-python",
   "name": "python",
   "nbconvert_exporter": "python",
   "pygments_lexer": "ipython3",
   "version": "3.6.4"
  }
 },
 "nbformat": 4,
 "nbformat_minor": 2
}
